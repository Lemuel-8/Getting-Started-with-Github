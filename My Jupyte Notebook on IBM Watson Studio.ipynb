{
    "cells": [
        {
            "cell_type": "markdown",
            "metadata": {
                "collapsed": true
            },
            "source": "# My Jupyter Notebook on IBM Watson Studio"
        },
        {
            "cell_type": "markdown",
            "metadata": {},
            "source": "**Lemuel Campomanes del Rio**\n\nDesired occupation: Wealth Manager"
        },
        {
            "cell_type": "markdown",
            "metadata": {},
            "source": "_I'm interested in data science beacause it is the present and the future_"
        },
        {
            "cell_type": "markdown",
            "metadata": {},
            "source": "### Modulus of an integer"
        },
        {
            "cell_type": "code",
            "execution_count": 9,
            "metadata": {},
            "outputs": [
                {
                    "data": {
                        "text/plain": "3"
                    },
                    "execution_count": 9,
                    "metadata": {},
                    "output_type": "execute_result"
                }
            ],
            "source": "def modulus(n1,n2):\n    return (n1%n2)\n\nmodulus(24,5)"
        },
        {
            "cell_type": "markdown",
            "metadata": {},
            "source": "+ a\n+ b\n+ c\n+ d\n+ e\n\n---\n\n[Go to Google](https://www.google.com)\n\n---\n\nMonday | Tuesday | Wednesday\n--- | --- | ---\nBiceps | Triceps | Legs\n"
        }
    ],
    "metadata": {
        "kernelspec": {
            "display_name": "Python 3.6",
            "language": "python",
            "name": "python3"
        },
        "language_info": {
            "codemirror_mode": {
                "name": "ipython",
                "version": 3
            },
            "file_extension": ".py",
            "mimetype": "text/x-python",
            "name": "python",
            "nbconvert_exporter": "python",
            "pygments_lexer": "ipython3",
            "version": "3.6.9"
        }
    },
    "nbformat": 4,
    "nbformat_minor": 1
}
